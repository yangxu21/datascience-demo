{
  "nbformat": 4,
  "nbformat_minor": 0,
  "metadata": {
    "colab": {
      "provenance": [],
      "toc_visible": true,
      "authorship_tag": "ABX9TyMu4VDaYW4FM1zbJRSODBwT",
      "include_colab_link": true
    },
    "kernelspec": {
      "name": "python3",
      "display_name": "Python 3"
    },
    "language_info": {
      "name": "python"
    }
  },
  "cells": [
    {
      "cell_type": "markdown",
      "metadata": {
        "id": "view-in-github",
        "colab_type": "text"
      },
      "source": [
        "<a href=\"https://colab.research.google.com/github/yangxu21/datascience-demo/blob/main/colab_demo.ipynb\" target=\"_parent\"><img src=\"https://colab.research.google.com/assets/colab-badge.svg\" alt=\"Open In Colab\"/></a>"
      ]
    },
    {
      "cell_type": "markdown",
      "source": [
        "## ingest"
      ],
      "metadata": {
        "id": "FVuJMWtPuCY0"
      }
    },
    {
      "cell_type": "code",
      "execution_count": null,
      "metadata": {
        "id": "zaeUBIzPt2E3"
      },
      "outputs": [],
      "source": []
    },
    {
      "cell_type": "markdown",
      "source": [
        "## EDA"
      ],
      "metadata": {
        "id": "EJRZeMMzunP-"
      }
    },
    {
      "cell_type": "code",
      "source": [],
      "metadata": {
        "id": "U-aZtq32u9sa"
      },
      "execution_count": null,
      "outputs": []
    },
    {
      "cell_type": "markdown",
      "source": [
        "##Modeling"
      ],
      "metadata": {
        "id": "a_q8Y7sbutRv"
      }
    },
    {
      "cell_type": "markdown",
      "source": [
        "### Classification algorithm A"
      ],
      "metadata": {
        "id": "q2fpaI4owZbF"
      }
    },
    {
      "cell_type": "code",
      "source": [],
      "metadata": {
        "id": "2D-ItHHjwo9d"
      },
      "execution_count": null,
      "outputs": []
    },
    {
      "cell_type": "markdown",
      "source": [
        "### Classification algorithm B"
      ],
      "metadata": {
        "id": "6WglKRN1wfti"
      }
    },
    {
      "cell_type": "code",
      "source": [],
      "metadata": {
        "id": "pUCLxI7Xwpr-"
      },
      "execution_count": null,
      "outputs": []
    },
    {
      "cell_type": "code",
      "source": [],
      "metadata": {
        "id": "W325bfyfvJoY"
      },
      "execution_count": null,
      "outputs": []
    },
    {
      "cell_type": "markdown",
      "source": [
        "##Conclusion"
      ],
      "metadata": {
        "id": "aOeITi9Mvjlo"
      }
    },
    {
      "cell_type": "code",
      "source": [],
      "metadata": {
        "id": "HBnX0ml6vmta"
      },
      "execution_count": null,
      "outputs": []
    }
  ]
}